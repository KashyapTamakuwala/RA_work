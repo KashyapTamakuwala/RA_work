{
 "cells": [
  {
   "cell_type": "code",
   "execution_count": 2,
   "id": "db02fbdf",
   "metadata": {},
   "outputs": [
    {
     "ename": "ModuleNotFoundError",
     "evalue": "No module named 'nltk'",
     "output_type": "error",
     "traceback": [
      "\u001b[0;31m---------------------------------------------------------------------------\u001b[0m",
      "\u001b[0;31mModuleNotFoundError\u001b[0m                       Traceback (most recent call last)",
      "\u001b[0;32m/var/folders/tz/3gc62l0518x3dtgsh9grl8540000gp/T/ipykernel_90342/1914565801.py\u001b[0m in \u001b[0;36m<module>\u001b[0;34m\u001b[0m\n\u001b[1;32m      7\u001b[0m \u001b[0;32mimport\u001b[0m \u001b[0mnumpy\u001b[0m \u001b[0;32mas\u001b[0m \u001b[0mnp\u001b[0m\u001b[0;34m\u001b[0m\u001b[0;34m\u001b[0m\u001b[0m\n\u001b[1;32m      8\u001b[0m \u001b[0;32mfrom\u001b[0m \u001b[0mgensim\u001b[0m\u001b[0;34m.\u001b[0m\u001b[0mmodels\u001b[0m\u001b[0;34m.\u001b[0m\u001b[0mdoc2vec\u001b[0m \u001b[0;32mimport\u001b[0m \u001b[0mDoc2Vec\u001b[0m\u001b[0;34m,\u001b[0m \u001b[0mTaggedDocument\u001b[0m\u001b[0;34m\u001b[0m\u001b[0;34m\u001b[0m\u001b[0m\n\u001b[0;32m----> 9\u001b[0;31m \u001b[0;32mfrom\u001b[0m \u001b[0mnltk\u001b[0m\u001b[0;34m.\u001b[0m\u001b[0mtokenize\u001b[0m \u001b[0;32mimport\u001b[0m \u001b[0mword_tokenize\u001b[0m\u001b[0;34m\u001b[0m\u001b[0;34m\u001b[0m\u001b[0m\n\u001b[0m\u001b[1;32m     10\u001b[0m \u001b[0;32mimport\u001b[0m \u001b[0mnltk\u001b[0m\u001b[0;34m\u001b[0m\u001b[0;34m\u001b[0m\u001b[0m\n\u001b[1;32m     11\u001b[0m \u001b[0mnltk\u001b[0m\u001b[0;34m.\u001b[0m\u001b[0mdownload\u001b[0m\u001b[0;34m(\u001b[0m\u001b[0;34m'punkt'\u001b[0m\u001b[0;34m)\u001b[0m\u001b[0;34m\u001b[0m\u001b[0;34m\u001b[0m\u001b[0m\n",
      "\u001b[0;31mModuleNotFoundError\u001b[0m: No module named 'nltk'"
     ]
    }
   ],
   "source": [
    "import json\n",
    "from os import listdir\n",
    "from os.path import isfile, join\n",
    "import re\n",
    "import string\n",
    "import pandas as pd\n",
    "import numpy as np\n",
    "from gensim.models.doc2vec import Doc2Vec, TaggedDocument\n",
    "from nltk.tokenize import word_tokenize\n",
    "import nltk\n",
    "nltk.download('punkt')\n",
    "nltk.download('stopwords')\n",
    "nltk.download('averaged_perceptron_tagger')\n",
    "nltk.download('wordnet')\n",
    "\n",
    "# import openai\n",
    "import time\n",
    "# from sentence_transformers import SentenceTransformer\n",
    "# import tiktoken\n",
    "# from openai.embeddings_utils import get_embedding\n",
    "from tqdm import tqdm\n",
    "\n",
    "from sklearn.svm import SVC\n",
    "\n",
    "import torch\n",
    "import torch.nn as nn\n",
    "from torch.autograd import Variable\n",
    "from sklearn.model_selection import train_test_split\n",
    "from torch.utils.data import DataLoader, TensorDataset\n",
    "\n",
    "import transformers\n",
    "from transformers import AutoTokenizer, AutoModel, utils\n",
    "transformers.logging.set_verbosity_error()\n",
    "#from bertviz import model_view, head_view\n",
    "utils.logging.set_verbosity_error()  # Suppress standard warnings\n",
    "\n",
    "# import tensorflow as tf\n",
    "# from tensorflow import keras\n",
    "# from sklearn.utils import shuffle\n"
   ]
  },
  {
   "cell_type": "code",
   "execution_count": 4,
   "id": "700d2d63",
   "metadata": {},
   "outputs": [],
   "source": [
    "path = \"./iclr_2017/train/parsed_pdfs\" \n",
    "train_files = [join(path,f) for f in listdir(path) if isfile(join(path, f))]\n",
    "\n",
    "path_2 = \"./iclr_2017/train/reviews\" \n",
    "train_reviews = [join(path_2,f) for f in listdir(path_2) if isfile(join(path_2, f))]\n",
    "\n",
    "path = \"./iclr_2017/dev/parsed_pdfs\" \n",
    "val_files = [join(path,f) for f in listdir(path) if isfile(join(path, f))]\n",
    "\n",
    "path_2 = \"./iclr_2017/dev/reviews\" \n",
    "val_reviews = [join(path_2,f) for f in listdir(path_2) if isfile(join(path_2, f))]\n",
    "\n",
    "path = \"./iclr_2017/test/parsed_pdfs\" \n",
    "test_files = [join(path,f) for f in listdir(path) if isfile(join(path, f))]\n",
    "\n",
    "path_2 = \"./iclr_2017/test/reviews\" \n",
    "test_reviews = [join(path_2,f) for f in listdir(path_2) if isfile(join(path_2, f))]\n"
   ]
  },
  {
   "cell_type": "code",
   "execution_count": 5,
   "id": "598b7750",
   "metadata": {},
   "outputs": [],
   "source": [
    "train_files.sort()\n",
    "train_reviews.sort()\n",
    "val_files.sort()\n",
    "val_reviews.sort()\n",
    "test_files.sort()\n",
    "test_reviews.sort()\n",
    "\n",
    "\n",
    "train_file_list = list(zip(train_files,train_reviews))\n",
    "val_file_list = list(zip(val_files,val_reviews))\n",
    "test_file_list = list(zip(test_files,test_reviews))\n"
   ]
  },
  {
   "cell_type": "code",
   "execution_count": 6,
   "id": "47e4e32e",
   "metadata": {},
   "outputs": [
    {
     "name": "stderr",
     "output_type": "stream",
     "text": [
      "100%|███████████████████████████████████████████████████████████████████████████████████████████████████| 349/349 [00:01<00:00, 235.79it/s]\n"
     ]
    }
   ],
   "source": [
    "train_dataset = []\n",
    "i=0\n",
    "for file in tqdm(train_file_list):\n",
    "    i+=1\n",
    "    t = file[0].split('/')[-1]\n",
    "    f = open(file[0])\n",
    "    data = json.load(f)\n",
    "    textdata=\"\"\n",
    "    title = data['metadata']['title']\n",
    "    for section in data['metadata']['sections']:\n",
    "        if section[\"heading\"]!=None:\n",
    "            temp = re.sub(r\"\\n[0-9][0-9][0-9]\",\" \",section[\"text\"])\n",
    "            temp = re.sub(r\"\\n[0-9]\",\" \",temp)\n",
    "            temp = re.sub(r'(?<=\\w)-\\n|\\n-(?=\\w)', '',temp,flags=re.IGNORECASE) \n",
    "            temp = re.sub(r'et al.',\" \",temp,flags=re.IGNORECASE)\n",
    "            temp = re.sub(\"/n\",\".\",temp)\n",
    "            #temp = re.sub(r\"[!@#$%^&*∑]/g\",\"\",temp)\n",
    "            textdata = textdata+temp\n",
    "    label = open(file[1])\n",
    "    lab = json.load(label)\n",
    "    flag = 1 if lab['accepted'] else 0\n",
    "    train_dataset.append([t,textdata.lower(),flag])"
   ]
  },
  {
   "cell_type": "code",
   "execution_count": 7,
   "id": "84a5ccf4",
   "metadata": {},
   "outputs": [
    {
     "data": {
      "text/plain": [
       "349"
      ]
     },
     "execution_count": 7,
     "metadata": {},
     "output_type": "execute_result"
    }
   ],
   "source": [
    "len(train_dataset)"
   ]
  },
  {
   "cell_type": "code",
   "execution_count": 8,
   "id": "daa3a091",
   "metadata": {},
   "outputs": [
    {
     "name": "stderr",
     "output_type": "stream",
     "text": [
      "100%|█████████████████████████████████████████████████████████████████████████████████████████████████████| 40/40 [00:00<00:00, 223.26it/s]\n"
     ]
    }
   ],
   "source": [
    "val_dataset = []\n",
    "i=0\n",
    "for file in tqdm(val_file_list):\n",
    "    i+=1\n",
    "    t = file[0].split('/')[-1]\n",
    "    f = open(file[0])\n",
    "    data = json.load(f)\n",
    "    textdata=\"\"\n",
    "    if data['metadata']['sections'] == None:\n",
    "        continue\n",
    "    for section in data['metadata']['sections']:\n",
    "        if section[\"heading\"]!=None:\n",
    "            temp = re.sub(r\"\\n[0-9][0-9][0-9]\",\" \",section[\"text\"])\n",
    "            temp = re.sub(r\"\\n[0-9]\",\" \",temp)\n",
    "            temp = re.sub(r'(?<=\\w)-\\n|\\n-(?=\\w)', '',temp,flags=re.IGNORECASE) \n",
    "            temp = re.sub(r'et al.',\"\",temp,flags=re.IGNORECASE)\n",
    "            temp = re.sub(\"/n\",\".\",temp)\n",
    "            #temp = re.sub(r\"[!@#$%^&*∑]/g\",\"\",temp)\n",
    "            textdata = textdata+temp\n",
    "    label = open(file[1])\n",
    "    lab = json.load(label)\n",
    "    flag = 1 if lab['accepted'] else 0\n",
    "    val_dataset.append([t,textdata.lower(),flag])"
   ]
  },
  {
   "cell_type": "code",
   "execution_count": 9,
   "id": "e3aba9af",
   "metadata": {},
   "outputs": [
    {
     "name": "stderr",
     "output_type": "stream",
     "text": [
      "100%|█████████████████████████████████████████████████████████████████████████████████████████████████████| 38/38 [00:00<00:00, 230.06it/s]\n"
     ]
    }
   ],
   "source": [
    "test_dataset = []\n",
    "i=0\n",
    "for file in tqdm(test_file_list):\n",
    "    i+=1\n",
    "    t = file[0].split('/')[-1]\n",
    "    f = open(file[0])\n",
    "    data = json.load(f)\n",
    "    textdata=\"\"\n",
    "    for section in data['metadata']['sections']:\n",
    "        if section[\"heading\"]!=None:\n",
    "            temp = re.sub(r\"\\n[0-9][0-9][0-9]\",\" \",section[\"text\"])\n",
    "            temp = re.sub(r\"\\n[0-9]\",\" \",temp)\n",
    "            temp = re.sub(r'(?<=\\w)-\\n|\\n-(?=\\w)', '',temp,flags=re.IGNORECASE) \n",
    "            temp = re.sub(\"/n\",\".\",temp)\n",
    "            temp = re.sub(r'et al.',\"\",temp,flags=re.IGNORECASE)\n",
    "            #temp = re.sub(r\"[!@#$%^&*∑]/g\",\"\",temp)\n",
    "            textdata = textdata+temp\n",
    "    label = open(file[1])\n",
    "    lab = json.load(label)\n",
    "    flag = 1 if lab['accepted'] else 0\n",
    "    test_dataset.append([t,textdata.lower(),flag])"
   ]
  },
  {
   "cell_type": "code",
   "execution_count": 10,
   "id": "e219ee55",
   "metadata": {},
   "outputs": [],
   "source": [
    "train_dataframe = pd.DataFrame(train_dataset)\n",
    "val_dataframe = pd.DataFrame(val_dataset)\n",
    "test_dataframe = pd.DataFrame(test_dataset)\n",
    "\n",
    "\n",
    "train_dataframe.columns = ['File_id','Paper_text', 'Status']\n",
    "val_dataframe.columns = ['File_id','Paper_text', 'Status']\n",
    "test_dataframe.columns = ['File_id','Paper_text', 'Status']"
   ]
  },
  {
   "cell_type": "code",
   "execution_count": 13,
   "id": "25fac37a",
   "metadata": {},
   "outputs": [],
   "source": [
    "train_dataframe.to_csv(\"./complete_sentence/train_processed_data.csv\",index=False)\n",
    "val_dataframe.to_csv(\"./complete_sentence/val_processed_data.csv\",index=False)\n",
    "test_dataframe.to_csv(\"./complete_sentence/test_processed_data.csv\",index=False)"
   ]
  },
  {
   "cell_type": "code",
   "execution_count": 14,
   "id": "4b77ecbe",
   "metadata": {},
   "outputs": [
    {
     "data": {
      "text/plain": [
       "0    210\n",
       "1    139\n",
       "Name: Status, dtype: int64"
      ]
     },
     "execution_count": 14,
     "metadata": {},
     "output_type": "execute_result"
    }
   ],
   "source": [
    "train_dataframe.Status.value_counts()"
   ]
  },
  {
   "cell_type": "code",
   "execution_count": 15,
   "id": "b808ea31",
   "metadata": {},
   "outputs": [
    {
     "name": "stdout",
     "output_type": "stream",
     "text": [
      "397\n"
     ]
    }
   ],
   "source": [
    "print(len(train_dataframe['Paper_text'][0].split(\".\")))\n",
    "for i in train_dataframe['Paper_text'][0].split(\".\"):\n",
    "    try:\n",
    "        len(i)\n",
    "    except:\n",
    "        print(i)"
   ]
  },
  {
   "cell_type": "code",
   "execution_count": 16,
   "id": "893a630f",
   "metadata": {},
   "outputs": [],
   "source": [
    "li=train_dataframe['Paper_text'][0].split(\".\")"
   ]
  },
  {
   "cell_type": "code",
   "execution_count": 17,
   "id": "9f7b6b1b",
   "metadata": {},
   "outputs": [
    {
     "name": "stdout",
     "output_type": "stream",
     "text": [
      "397\n"
     ]
    }
   ],
   "source": [
    "print(len(li))"
   ]
  },
  {
   "cell_type": "code",
   "execution_count": 18,
   "id": "af921749",
   "metadata": {},
   "outputs": [],
   "source": [
    "def sentence_split(dataframe):\n",
    "    train_lis=[] #[id, sentence , label]\n",
    "\n",
    "    for index,row in tqdm(dataframe.iterrows()):\n",
    "        li=train_dataframe['Paper_text'][0].split(\".\")\n",
    "        for sentence in li:\n",
    "                if len(sentence)==0:\n",
    "                    continue\n",
    "                train_lis.append([row['File_id'],sentence,row['Status']])\n",
    "\n",
    "    dataframe_list = pd.DataFrame(train_lis)\n",
    "    dataframe_list.columns = ['File_id','Sentence', 'Status']\n",
    "    return dataframe_list"
   ]
  },
  {
   "cell_type": "code",
   "execution_count": 19,
   "id": "d041fa86",
   "metadata": {},
   "outputs": [
    {
     "name": "stderr",
     "output_type": "stream",
     "text": [
      "349it [00:01, 202.57it/s]\n",
      "39it [00:00, 298.30it/s]\n",
      "38it [00:00, 287.03it/s]\n"
     ]
    }
   ],
   "source": [
    "train_dataframe_li= sentence_split(train_dataframe)\n",
    "val_dataframe_li= sentence_split(val_dataframe)\n",
    "test_dataframe_li= sentence_split(test_dataframe)"
   ]
  },
  {
   "cell_type": "code",
   "execution_count": 20,
   "id": "cebae814",
   "metadata": {},
   "outputs": [],
   "source": [
    "train_dataframe_li.to_csv('./sentence_split/train_sentence_data.csv',index=False)\n",
    "val_dataframe_li.to_csv('./sentence_split/val_sentence_data.csv',index=False)\n",
    "test_dataframe_li.to_csv('./sentence_split/test_sentence_data.csv',index=False)"
   ]
  },
  {
   "cell_type": "code",
   "execution_count": 21,
   "id": "4e39f422",
   "metadata": {},
   "outputs": [
    {
     "data": {
      "text/plain": [
       "0    8316\n",
       "1    7128\n",
       "Name: Status, dtype: int64"
      ]
     },
     "execution_count": 21,
     "metadata": {},
     "output_type": "execute_result"
    }
   ],
   "source": [
    "val_dataframe_li.Status.value_counts()"
   ]
  }
 ],
 "metadata": {
  "kernelspec": {
   "display_name": "Python 3 (ipykernel)",
   "language": "python",
   "name": "python3"
  },
  "language_info": {
   "codemirror_mode": {
    "name": "ipython",
    "version": 3
   },
   "file_extension": ".py",
   "mimetype": "text/x-python",
   "name": "python",
   "nbconvert_exporter": "python",
   "pygments_lexer": "ipython3",
   "version": "3.7.16"
  }
 },
 "nbformat": 4,
 "nbformat_minor": 5
}
