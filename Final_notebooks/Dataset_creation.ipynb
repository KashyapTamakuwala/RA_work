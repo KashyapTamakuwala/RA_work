{
 "cells": [
  {
   "cell_type": "code",
   "execution_count": 1,
   "id": "db02fbdf",
   "metadata": {},
   "outputs": [
    {
     "name": "stderr",
     "output_type": "stream",
     "text": [
      "[nltk_data] Downloading package punkt to /Users/admin/nltk_data...\n",
      "[nltk_data]   Package punkt is already up-to-date!\n",
      "[nltk_data] Downloading package stopwords to /Users/admin/nltk_data...\n",
      "[nltk_data]   Package stopwords is already up-to-date!\n",
      "[nltk_data] Downloading package averaged_perceptron_tagger to\n",
      "[nltk_data]     /Users/admin/nltk_data...\n",
      "[nltk_data]   Package averaged_perceptron_tagger is already up-to-\n",
      "[nltk_data]       date!\n",
      "[nltk_data] Downloading package wordnet to /Users/admin/nltk_data...\n",
      "[nltk_data]   Package wordnet is already up-to-date!\n"
     ]
    }
   ],
   "source": [
    "import json\n",
    "from os import listdir\n",
    "from os.path import isfile, join\n",
    "import re\n",
    "import string\n",
    "import pandas as pd\n",
    "import numpy as np\n",
    "from gensim.models.doc2vec import Doc2Vec, TaggedDocument\n",
    "from nltk.tokenize import word_tokenize\n",
    "import nltk\n",
    "nltk.download('punkt')\n",
    "nltk.download('stopwords')\n",
    "nltk.download('averaged_perceptron_tagger')\n",
    "nltk.download('wordnet')\n",
    "\n",
    "# import openai\n",
    "import time\n",
    "# from sentence_transformers import SentenceTransformer\n",
    "# import tiktoken\n",
    "# from openai.embeddings_utils import get_embedding\n",
    "from tqdm import tqdm\n"
   ]
  },
  {
   "cell_type": "code",
   "execution_count": 2,
   "id": "700d2d63",
   "metadata": {},
   "outputs": [],
   "source": [
    "path = \"../iclr_2017/train/parsed_pdfs\" \n",
    "train_files = [join(path,f) for f in listdir(path) if isfile(join(path, f))]\n",
    "\n",
    "path_2 = \"../iclr_2017/train/reviews\" \n",
    "train_reviews = [join(path_2,f) for f in listdir(path_2) if isfile(join(path_2, f))]\n",
    "\n",
    "path = \"../iclr_2017/dev/parsed_pdfs\" \n",
    "val_files = [join(path,f) for f in listdir(path) if isfile(join(path, f))]\n",
    "\n",
    "path_2 = \"../iclr_2017/dev/reviews\" \n",
    "val_reviews = [join(path_2,f) for f in listdir(path_2) if isfile(join(path_2, f))]\n",
    "\n",
    "path = \"../iclr_2017/test/parsed_pdfs\" \n",
    "test_files = [join(path,f) for f in listdir(path) if isfile(join(path, f))]\n",
    "\n",
    "path_2 = \"../iclr_2017/test/reviews\" \n",
    "test_reviews = [join(path_2,f) for f in listdir(path_2) if isfile(join(path_2, f))]\n"
   ]
  },
  {
   "cell_type": "code",
   "execution_count": 3,
   "id": "598b7750",
   "metadata": {},
   "outputs": [],
   "source": [
    "train_files.sort()\n",
    "train_reviews.sort()\n",
    "val_files.sort()\n",
    "val_reviews.sort()\n",
    "test_files.sort()\n",
    "test_reviews.sort()\n",
    "\n",
    "\n",
    "train_file_list = list(zip(train_files,train_reviews))\n",
    "val_file_list = list(zip(val_files,val_reviews))\n",
    "test_file_list = list(zip(test_files,test_reviews))\n"
   ]
  },
  {
   "cell_type": "code",
   "execution_count": 4,
   "id": "47e4e32e",
   "metadata": {},
   "outputs": [
    {
     "name": "stderr",
     "output_type": "stream",
     "text": [
      "100%|███████████████████████████████████████████████████████████████████████████████████████████████████| 349/349 [00:00<00:00, 427.08it/s]\n"
     ]
    }
   ],
   "source": [
    "train_dataset = []\n",
    "i=0\n",
    "for file in tqdm(train_file_list):\n",
    "    i+=1\n",
    "    t = file[0].split('/')[-1]\n",
    "    f = open(file[0])\n",
    "    data = json.load(f)\n",
    "    title = data['metadata']['title']\n",
    "    textdata=\"\"\n",
    "    for section in data['metadata']['sections']:\n",
    "        if section[\"heading\"]!=None:\n",
    "            temp = re.sub(r\"\\n[0-9][0-9][0-9]\",\" \",section[\"text\"])\n",
    "            temp = re.sub(r\"\\n[0-9]\",\" \",temp)\n",
    "            temp = re.sub(r'(?<=\\w)-\\n|\\n-(?=\\w)', '',temp,flags=re.IGNORECASE) \n",
    "            temp = re.sub(r'et al.',\" \",temp,flags=re.IGNORECASE)\n",
    "            temp = re.sub(\"/n\",\".\",temp)\n",
    "            #temp = re.sub(r\"[!@#$%^&*∑]/g\",\"\",temp)\n",
    "            textdata = textdata+temp\n",
    "    label = open(file[1])\n",
    "    lab = json.load(label)\n",
    "    flag = 1 if lab['accepted'] else 0\n",
    "    train_dataset.append([t,title,textdata.lower(),flag])"
   ]
  },
  {
   "cell_type": "code",
   "execution_count": 5,
   "id": "84a5ccf4",
   "metadata": {},
   "outputs": [
    {
     "data": {
      "text/plain": [
       "349"
      ]
     },
     "execution_count": 5,
     "metadata": {},
     "output_type": "execute_result"
    }
   ],
   "source": [
    "len(train_dataset)"
   ]
  },
  {
   "cell_type": "code",
   "execution_count": 6,
   "id": "daa3a091",
   "metadata": {},
   "outputs": [
    {
     "name": "stderr",
     "output_type": "stream",
     "text": [
      "100%|█████████████████████████████████████████████████████████████████████████████████████████████████████| 40/40 [00:00<00:00, 309.25it/s]\n"
     ]
    }
   ],
   "source": [
    "val_dataset = []\n",
    "i=0\n",
    "for file in tqdm(val_file_list):\n",
    "    i+=1\n",
    "    t = file[0].split('/')[-1]\n",
    "    f = open(file[0])\n",
    "    data = json.load(f)\n",
    "    textdata=\"\"\n",
    "    title = data['metadata']['title']\n",
    "    if data['metadata']['sections'] == None:\n",
    "        continue\n",
    "    for section in data['metadata']['sections']:\n",
    "        if section[\"heading\"]!=None:\n",
    "            temp = re.sub(r\"\\n[0-9][0-9][0-9]\",\" \",section[\"text\"])\n",
    "            temp = re.sub(r\"\\n[0-9]\",\" \",temp)\n",
    "            temp = re.sub(r'(?<=\\w)-\\n|\\n-(?=\\w)', '',temp,flags=re.IGNORECASE) \n",
    "            temp = re.sub(r'et al.',\"\",temp,flags=re.IGNORECASE)\n",
    "            temp = re.sub(\"/n\",\".\",temp)\n",
    "            #temp = re.sub(r\"[!@#$%^&*∑]/g\",\"\",temp)\n",
    "            textdata = textdata+temp\n",
    "    label = open(file[1])\n",
    "    lab = json.load(label)\n",
    "    flag = 1 if lab['accepted'] else 0\n",
    "    val_dataset.append([t,title,textdata.lower(),flag])"
   ]
  },
  {
   "cell_type": "code",
   "execution_count": 7,
   "id": "e3aba9af",
   "metadata": {},
   "outputs": [
    {
     "name": "stderr",
     "output_type": "stream",
     "text": [
      "100%|█████████████████████████████████████████████████████████████████████████████████████████████████████| 38/38 [00:00<00:00, 317.56it/s]\n"
     ]
    }
   ],
   "source": [
    "test_dataset = []\n",
    "i=0\n",
    "for file in tqdm(test_file_list):\n",
    "    i+=1\n",
    "    t = file[0].split('/')[-1]\n",
    "    f = open(file[0])\n",
    "    data = json.load(f)\n",
    "    textdata=\"\"\n",
    "    title = data['metadata']['title']\n",
    "    for section in data['metadata']['sections']:\n",
    "        if section[\"heading\"]!=None:\n",
    "            temp = re.sub(r\"\\n[0-9][0-9][0-9]\",\" \",section[\"text\"])\n",
    "            temp = re.sub(r\"\\n[0-9]\",\" \",temp)\n",
    "            temp = re.sub(r'(?<=\\w)-\\n|\\n-(?=\\w)', '',temp,flags=re.IGNORECASE) \n",
    "            temp = re.sub(\"/n\",\".\",temp)\n",
    "            temp = re.sub(r'et al.',\"\",temp,flags=re.IGNORECASE)\n",
    "            #temp = re.sub(r\"[!@#$%^&*∑]/g\",\"\",temp)\n",
    "            textdata = textdata+temp\n",
    "    label = open(file[1])\n",
    "    lab = json.load(label)\n",
    "    flag = 1 if lab['accepted'] else 0\n",
    "    test_dataset.append([t,title,textdata.lower(),flag])"
   ]
  },
  {
   "cell_type": "code",
   "execution_count": 8,
   "id": "e219ee55",
   "metadata": {},
   "outputs": [],
   "source": [
    "train_dataframe = pd.DataFrame(train_dataset)\n",
    "val_dataframe = pd.DataFrame(val_dataset)\n",
    "test_dataframe = pd.DataFrame(test_dataset)\n",
    "\n",
    "\n",
    "train_dataframe.columns = ['File_id','Title','Paper_text', 'Status']\n",
    "val_dataframe.columns = ['File_id','Title','Paper_text', 'Status']\n",
    "test_dataframe.columns = ['File_id','Title','Paper_text', 'Status']"
   ]
  },
  {
   "cell_type": "code",
   "execution_count": 9,
   "id": "25fac37a",
   "metadata": {},
   "outputs": [],
   "source": [
    "train_dataframe.to_csv(\"../complete_sentence/train_processed_data.csv\",index=False)\n",
    "val_dataframe.to_csv(\"../complete_sentence/val_processed_data.csv\",index=False)\n",
    "test_dataframe.to_csv(\"../complete_sentence/test_processed_data.csv\",index=False)"
   ]
  },
  {
   "cell_type": "code",
   "execution_count": 10,
   "id": "4b77ecbe",
   "metadata": {},
   "outputs": [
    {
     "data": {
      "text/plain": [
       "0    210\n",
       "1    139\n",
       "Name: Status, dtype: int64"
      ]
     },
     "execution_count": 10,
     "metadata": {},
     "output_type": "execute_result"
    }
   ],
   "source": [
    "train_dataframe.Status.value_counts()"
   ]
  },
  {
   "cell_type": "code",
   "execution_count": 11,
   "id": "b808ea31",
   "metadata": {},
   "outputs": [
    {
     "name": "stdout",
     "output_type": "stream",
     "text": [
      "397\n"
     ]
    }
   ],
   "source": [
    "print(len(train_dataframe['Paper_text'][0].split(\".\")))\n",
    "for i in train_dataframe['Paper_text'][0].split(\".\"):\n",
    "    try:\n",
    "        len(i)\n",
    "    except:\n",
    "        print(i)"
   ]
  },
  {
   "cell_type": "code",
   "execution_count": 12,
   "id": "893a630f",
   "metadata": {},
   "outputs": [],
   "source": [
    "li=train_dataframe['Paper_text'][0].split(\".\")"
   ]
  },
  {
   "cell_type": "code",
   "execution_count": 13,
   "id": "9f7b6b1b",
   "metadata": {},
   "outputs": [
    {
     "name": "stdout",
     "output_type": "stream",
     "text": [
      "397\n"
     ]
    }
   ],
   "source": [
    "print(len(li))"
   ]
  },
  {
   "cell_type": "code",
   "execution_count": 14,
   "id": "af921749",
   "metadata": {},
   "outputs": [],
   "source": [
    "def sentence_split(dataframe):\n",
    "    train_lis=[] #[id, sentence , label]\n",
    "\n",
    "    for index,row in tqdm(dataframe.iterrows()):\n",
    "        li=train_dataframe['Paper_text'][0].split(\".\")\n",
    "        for sentence in li:\n",
    "                if len(sentence)==0:\n",
    "                    continue\n",
    "                train_lis.append([row['File_id'],sentence,row['Status']])\n",
    "\n",
    "    dataframe_list = pd.DataFrame(train_lis)\n",
    "    dataframe_list.columns = ['File_id','Sentence', 'Status']\n",
    "    return dataframe_list"
   ]
  },
  {
   "cell_type": "code",
   "execution_count": 15,
   "id": "d041fa86",
   "metadata": {},
   "outputs": [
    {
     "name": "stderr",
     "output_type": "stream",
     "text": [
      "349it [00:00, 518.76it/s]\n",
      "39it [00:00, 627.19it/s]\n",
      "38it [00:00, 629.57it/s]\n"
     ]
    }
   ],
   "source": [
    "train_dataframe_li= sentence_split(train_dataframe)\n",
    "val_dataframe_li= sentence_split(val_dataframe)\n",
    "test_dataframe_li= sentence_split(test_dataframe)"
   ]
  },
  {
   "cell_type": "code",
   "execution_count": 16,
   "id": "cebae814",
   "metadata": {},
   "outputs": [],
   "source": [
    "train_dataframe_li.to_csv('../sentence_split/train_sentence_data.csv',index=False)\n",
    "val_dataframe_li.to_csv('../sentence_split/val_sentence_data.csv',index=False)\n",
    "test_dataframe_li.to_csv('../sentence_split/test_sentence_data.csv',index=False)"
   ]
  },
  {
   "cell_type": "code",
   "execution_count": 17,
   "id": "4e39f422",
   "metadata": {},
   "outputs": [
    {
     "data": {
      "text/plain": [
       "0    8316\n",
       "1    7128\n",
       "Name: Status, dtype: int64"
      ]
     },
     "execution_count": 17,
     "metadata": {},
     "output_type": "execute_result"
    }
   ],
   "source": [
    "val_dataframe_li.Status.value_counts()"
   ]
  },
  {
   "cell_type": "code",
   "execution_count": null,
   "id": "9f1069c3",
   "metadata": {},
   "outputs": [],
   "source": []
  }
 ],
 "metadata": {
  "kernelspec": {
   "display_name": "Python 3 (ipykernel)",
   "language": "python",
   "name": "python3"
  },
  "language_info": {
   "codemirror_mode": {
    "name": "ipython",
    "version": 3
   },
   "file_extension": ".py",
   "mimetype": "text/x-python",
   "name": "python",
   "nbconvert_exporter": "python",
   "pygments_lexer": "ipython3",
   "version": "3.7.16"
  }
 },
 "nbformat": 4,
 "nbformat_minor": 5
}
