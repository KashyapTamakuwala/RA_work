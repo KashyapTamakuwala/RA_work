{
 "cells": [
  {
   "cell_type": "code",
   "execution_count": 1,
   "id": "40b48e12",
   "metadata": {},
   "outputs": [],
   "source": [
    "import json\n",
    "import sys\n",
    "from os import listdir\n",
    "from os.path import isfile, join\n",
    "import re\n",
    "import string\n",
    "import pandas as pd\n",
    "import numpy as np\n",
    "\n",
    "import time\n",
    "from tqdm import tqdm\n",
    "from typing import List\n",
    "\n",
    "import torch\n",
    "import torch.nn as nn\n",
    "from torch.autograd import Variable\n",
    "from torch.utils.data import DataLoader, TensorDataset\n",
    "# from keras.preprocessing.sequence import pad_sequences\n",
    "\n",
    "import transformers\n",
    "from transformers import AutoTokenizer, AutoModel, utils\n",
    "from transformers import AutoTokenizer, AutoModelForSequenceClassification,Trainer, TrainingArguments\n",
    "from datasets import Dataset\n",
    "transformers.logging.set_verbosity_error()\n",
    "utils.logging.set_verbosity_error()  # Suppress standard warnings\n",
    "\n",
    "from bertviz import model_view, head_view\n",
    "\n",
    "\n",
    "from sklearn.base import BaseEstimator, TransformerMixin\n",
    "from sklearn.pipeline import Pipeline, make_pipeline\n",
    "from sklearn.svm import SVC\n",
    "from sklearn.model_selection import train_test_split\n",
    "from sklearn.linear_model import LogisticRegression\n",
    "\n",
    "\n",
    "import eli5\n",
    "from eli5.lime import TextExplainer\n",
    "# from captum.attr import IntegratedGradients\n",
    "# import matplotlib.pyplot as plt\n",
    "\n",
    "\n",
    "from wordcloud import WordCloud\n",
    "from PIL import Image\n",
    "import matplotlib.pyplot as plt"
   ]
  },
  {
   "cell_type": "markdown",
   "id": "5c860b88",
   "metadata": {},
   "source": [
    "## Data"
   ]
  },
  {
   "cell_type": "code",
   "execution_count": 2,
   "id": "57f8c831",
   "metadata": {},
   "outputs": [],
   "source": [
    "sen_train_data = pd.read_csv('train_sentence_data.csv')\n",
    "sen_test_data = pd.read_csv('test_sentence_data.csv')\n",
    "sen_val_data = pd.read_csv('val_sentence_data.csv')"
   ]
  },
  {
   "cell_type": "code",
   "execution_count": 3,
   "id": "e5b3249e",
   "metadata": {},
   "outputs": [],
   "source": [
    "sen_train_data = sen_train_data.drop(['File_id'],axis=1)\n",
    "sen_test_data = sen_test_data.drop(['File_id'],axis=1)\n",
    "sen_val_data = sen_val_data.drop(['File_id'],axis=1)"
   ]
  },
  {
   "cell_type": "code",
   "execution_count": 4,
   "id": "47fe1544",
   "metadata": {},
   "outputs": [],
   "source": [
    "def get_20(data):\n",
    "    data_1 = data.loc[data['Status'] ==1].iloc[:20]\n",
    "    data_2 = data.loc[data['Status'] ==0].iloc[:20]\n",
    "    frames = [data_1, data_2]\n",
    "    return pd.concat(frames)\n",
    "\n",
    "sen_train_data = get_20(sen_train_data) \n",
    "sen_test_data = get_20(sen_test_data)\n",
    "sen_val_data = get_20(sen_val_data)"
   ]
  },
  {
   "cell_type": "code",
   "execution_count": 5,
   "id": "84a0a591",
   "metadata": {},
   "outputs": [],
   "source": [
    "sen_train_data=sen_train_data.sample(frac = 1)\n",
    "sen_test_data=sen_test_data.sample(frac = 1)\n",
    "sen_val_data=sen_val_data.sample(frac = 1)"
   ]
  },
  {
   "cell_type": "code",
   "execution_count": 6,
   "id": "276c5e99",
   "metadata": {},
   "outputs": [],
   "source": [
    "sen_train_data.to_csv('Train_auto.csv',index=False)\n",
    "sen_test_data.to_csv('Test_auto.csv',index=False)\n",
    "sen_val_data.to_csv('val_auto.csv',index=False)"
   ]
  },
  {
   "cell_type": "code",
   "execution_count": 7,
   "id": "0537e12d",
   "metadata": {},
   "outputs": [
    {
     "data": {
      "text/plain": [
       "1    20\n",
       "0    20\n",
       "Name: Status, dtype: int64"
      ]
     },
     "execution_count": 7,
     "metadata": {},
     "output_type": "execute_result"
    }
   ],
   "source": [
    "sen_train_data.Status.value_counts()"
   ]
  },
  {
   "cell_type": "code",
   "execution_count": 8,
   "id": "934f6dc1",
   "metadata": {},
   "outputs": [
    {
     "name": "stdout",
     "output_type": "stream",
     "text": [
      "Downloading and preparing dataset csv/default to /Users/admin/.cache/huggingface/datasets/csv/default-06aa0b25082cbea4/0.0.0...\n"
     ]
    },
    {
     "data": {
      "application/vnd.jupyter.widget-view+json": {
       "model_id": "4b5df3fc99f6470699499581c7f2503f",
       "version_major": 2,
       "version_minor": 0
      },
      "text/plain": [
       "Downloading data files:   0%|          | 0/1 [00:00<?, ?it/s]"
      ]
     },
     "metadata": {},
     "output_type": "display_data"
    },
    {
     "data": {
      "application/vnd.jupyter.widget-view+json": {
       "model_id": "1679033c89f04a038747e84d27bbaa70",
       "version_major": 2,
       "version_minor": 0
      },
      "text/plain": [
       "Extracting data files:   0%|          | 0/1 [00:00<?, ?it/s]"
      ]
     },
     "metadata": {},
     "output_type": "display_data"
    },
    {
     "data": {
      "application/vnd.jupyter.widget-view+json": {
       "model_id": "",
       "version_major": 2,
       "version_minor": 0
      },
      "text/plain": [
       "Generating train split: 0 examples [00:00, ? examples/s]"
      ]
     },
     "metadata": {},
     "output_type": "display_data"
    },
    {
     "name": "stdout",
     "output_type": "stream",
     "text": [
      "Dataset csv downloaded and prepared to /Users/admin/.cache/huggingface/datasets/csv/default-06aa0b25082cbea4/0.0.0. Subsequent calls will reuse this data.\n",
      "Downloading and preparing dataset csv/default to /Users/admin/.cache/huggingface/datasets/csv/default-1fee19994071e886/0.0.0...\n"
     ]
    },
    {
     "data": {
      "application/vnd.jupyter.widget-view+json": {
       "model_id": "09bea0f8d1824ab9a70cbf692cacbf1e",
       "version_major": 2,
       "version_minor": 0
      },
      "text/plain": [
       "Downloading data files:   0%|          | 0/1 [00:00<?, ?it/s]"
      ]
     },
     "metadata": {},
     "output_type": "display_data"
    },
    {
     "data": {
      "application/vnd.jupyter.widget-view+json": {
       "model_id": "4c9e67d7e92f4e6889070321ec62b54c",
       "version_major": 2,
       "version_minor": 0
      },
      "text/plain": [
       "Extracting data files:   0%|          | 0/1 [00:00<?, ?it/s]"
      ]
     },
     "metadata": {},
     "output_type": "display_data"
    },
    {
     "data": {
      "application/vnd.jupyter.widget-view+json": {
       "model_id": "",
       "version_major": 2,
       "version_minor": 0
      },
      "text/plain": [
       "Generating train split: 0 examples [00:00, ? examples/s]"
      ]
     },
     "metadata": {},
     "output_type": "display_data"
    },
    {
     "name": "stdout",
     "output_type": "stream",
     "text": [
      "Dataset csv downloaded and prepared to /Users/admin/.cache/huggingface/datasets/csv/default-1fee19994071e886/0.0.0. Subsequent calls will reuse this data.\n",
      "Downloading and preparing dataset csv/default to /Users/admin/.cache/huggingface/datasets/csv/default-028d073ee69402aa/0.0.0...\n"
     ]
    },
    {
     "data": {
      "application/vnd.jupyter.widget-view+json": {
       "model_id": "d826eb3366934d9d8ff030fd7076a21a",
       "version_major": 2,
       "version_minor": 0
      },
      "text/plain": [
       "Downloading data files:   0%|          | 0/1 [00:00<?, ?it/s]"
      ]
     },
     "metadata": {},
     "output_type": "display_data"
    },
    {
     "data": {
      "application/vnd.jupyter.widget-view+json": {
       "model_id": "a1cd28aff7fb4f11b6b0881f55c2b5a7",
       "version_major": 2,
       "version_minor": 0
      },
      "text/plain": [
       "Extracting data files:   0%|          | 0/1 [00:00<?, ?it/s]"
      ]
     },
     "metadata": {},
     "output_type": "display_data"
    },
    {
     "data": {
      "application/vnd.jupyter.widget-view+json": {
       "model_id": "",
       "version_major": 2,
       "version_minor": 0
      },
      "text/plain": [
       "Generating train split: 0 examples [00:00, ? examples/s]"
      ]
     },
     "metadata": {},
     "output_type": "display_data"
    },
    {
     "name": "stdout",
     "output_type": "stream",
     "text": [
      "Dataset csv downloaded and prepared to /Users/admin/.cache/huggingface/datasets/csv/default-028d073ee69402aa/0.0.0. Subsequent calls will reuse this data.\n"
     ]
    }
   ],
   "source": [
    "# Load train and validation datasets from CSV files\n",
    "train_dataset = Dataset.from_csv('Train_auto.csv')\n",
    "val_dataset = Dataset.from_csv('val_auto.csv')\n",
    "test_dataset = Dataset.from_csv('Test_auto.csv')\n",
    "\n",
    "# Rename the columns to 'text' and 'label' to match the expected format for sequence classification\n",
    "train_dataset = train_dataset.rename_column('Sentence', 'text').rename_column('Status', 'label')\n",
    "val_dataset = val_dataset.rename_column('Sentence', 'text').rename_column('Status', 'label')\n",
    "test_dataset = test_dataset.rename_column('Sentence', 'text').rename_column('Status', 'label')\n"
   ]
  },
  {
   "cell_type": "code",
   "execution_count": 9,
   "id": "28ade24e",
   "metadata": {},
   "outputs": [
    {
     "data": {
      "application/vnd.jupyter.widget-view+json": {
       "model_id": "",
       "version_major": 2,
       "version_minor": 0
      },
      "text/plain": [
       "Map:   0%|          | 0/40 [00:00<?, ? examples/s]"
      ]
     },
     "metadata": {},
     "output_type": "display_data"
    },
    {
     "data": {
      "application/vnd.jupyter.widget-view+json": {
       "model_id": "",
       "version_major": 2,
       "version_minor": 0
      },
      "text/plain": [
       "Map:   0%|          | 0/40 [00:00<?, ? examples/s]"
      ]
     },
     "metadata": {},
     "output_type": "display_data"
    },
    {
     "data": {
      "application/vnd.jupyter.widget-view+json": {
       "model_id": "",
       "version_major": 2,
       "version_minor": 0
      },
      "text/plain": [
       "Map:   0%|          | 0/40 [00:00<?, ? examples/s]"
      ]
     },
     "metadata": {},
     "output_type": "display_data"
    }
   ],
   "source": [
    "# Load the tokenizer\n",
    "tokenizer = AutoTokenizer.from_pretrained('sentence-transformers/bert-base-nli-mean-tokens')\n",
    "\n",
    "# Define a function to tokenize the text and create input sequences\n",
    "def tokenize(batch):\n",
    "    return tokenizer(batch['text'], padding=True, truncation=True,max_length=512)\n",
    "\n",
    "# Apply the tokenization function to the train and validation datasets\n",
    "train_dataset = train_dataset.map(tokenize, batched=True, batch_size=len(train_dataset))\n",
    "val_dataset = val_dataset.map(tokenize, batched=True, batch_size=len(val_dataset))\n",
    "test_dataset = test_dataset.map(tokenize, batched=True, batch_size=len(test_dataset))\n"
   ]
  },
  {
   "cell_type": "code",
   "execution_count": 10,
   "id": "08972c52",
   "metadata": {},
   "outputs": [],
   "source": [
    "model = AutoModelForSequenceClassification.from_pretrained('sentence-transformers/bert-base-nli-mean-tokens', num_labels=2)"
   ]
  },
  {
   "cell_type": "code",
   "execution_count": 11,
   "id": "3170f624",
   "metadata": {},
   "outputs": [],
   "source": [
    "# Train the model\n",
    "training_args = TrainingArguments(\n",
    "    output_dir='./results/bert',          # output directory\n",
    "    num_train_epochs=3,              # total number of training epochs\n",
    "    per_device_train_batch_size=16,  # batch size per device during training\n",
    "    per_device_eval_batch_size=64,   # batch size for evaluation\n",
    "    warmup_steps=500,                # number of warmup steps for learning rate scheduler\n",
    "    weight_decay=0.01,               # strength of weight decay\n",
    "    logging_dir='./logs',            # directory for storing logs\n",
    "    logging_steps=10,\n",
    ")"
   ]
  },
  {
   "cell_type": "code",
   "execution_count": 12,
   "id": "1fbaf12b",
   "metadata": {},
   "outputs": [
    {
     "name": "stderr",
     "output_type": "stream",
     "text": [
      "/Users/admin/anaconda3/envs/Newra/lib/python3.7/site-packages/transformers/optimization.py:411: FutureWarning: This implementation of AdamW is deprecated and will be removed in a future version. Use the PyTorch implementation torch.optim.AdamW instead, or set `no_deprecation_warning=True` to disable this warning\n",
      "  FutureWarning,\n"
     ]
    },
    {
     "name": "stdout",
     "output_type": "stream",
     "text": [
      "{'train_runtime': 57.4374, 'train_samples_per_second': 2.089, 'train_steps_per_second': 0.157, 'train_loss': 0.7604381773206923, 'epoch': 3.0}\n"
     ]
    },
    {
     "data": {
      "text/plain": [
       "TrainOutput(global_step=9, training_loss=0.7604381773206923, metrics={'train_runtime': 57.4374, 'train_samples_per_second': 2.089, 'train_steps_per_second': 0.157, 'train_loss': 0.7604381773206923, 'epoch': 3.0})"
      ]
     },
     "execution_count": 12,
     "metadata": {},
     "output_type": "execute_result"
    }
   ],
   "source": [
    "trainer = Trainer(\n",
    "    model=model,                     # the instantiated Transformers model to be trained\n",
    "    args=training_args,              # training arguments, defined above\n",
    "    train_dataset=train_dataset,     # training dataset\n",
    "    eval_dataset=val_dataset,        # evaluation dataset\n",
    ")\n",
    "trainer.train()"
   ]
  },
  {
   "cell_type": "code",
   "execution_count": 13,
   "id": "827aa56d",
   "metadata": {
    "scrolled": true
   },
   "outputs": [
    {
     "name": "stdout",
     "output_type": "stream",
     "text": [
      "{'eval_loss': 0.7438465356826782, 'eval_runtime': 5.761, 'eval_samples_per_second': 6.943, 'eval_steps_per_second': 0.174, 'epoch': 3.0}\n",
      "{'eval_loss': 0.7438465356826782, 'eval_runtime': 5.761, 'eval_samples_per_second': 6.943, 'eval_steps_per_second': 0.174, 'epoch': 3.0}\n"
     ]
    }
   ],
   "source": [
    "# Evaluate the model\n",
    "eval_results = trainer.evaluate(test_dataset)\n",
    "print(eval_results)"
   ]
  },
  {
   "cell_type": "code",
   "execution_count": 14,
   "id": "d03f6618",
   "metadata": {},
   "outputs": [],
   "source": [
    "def model_adapter(texts: List[str]):\n",
    "    \n",
    "    all_scores = []\n",
    "\n",
    "    for i in tqdm(range(0, len(texts), 64)):\n",
    "\n",
    "        batch = texts[i:i+64]\n",
    "        #print(batch)\n",
    "        \n",
    "        # use bert encoder to tokenize text \n",
    "        encoded_input = tokenizer(batch, \n",
    "          return_tensors='pt', \n",
    "          padding=True, \n",
    "          truncation=True, \n",
    "          max_length=model.config.max_position_embeddings-2)\n",
    "\n",
    "        # run the model\n",
    "        output = model(**encoded_input)\n",
    "        #print(output)\n",
    "        # by default this model gives raw logits rather \n",
    "        # than a nice smooth softmax so we apply it ourselves here\n",
    "        scores = output[0].softmax(1).detach().numpy()\n",
    "        #print(scores)\n",
    "\n",
    "        all_scores.extend(scores)\n",
    "\n",
    "    return np.array(all_scores)"
   ]
  },
  {
   "cell_type": "code",
   "execution_count": 15,
   "id": "19876226",
   "metadata": {},
   "outputs": [],
   "source": [
    "sen = sen_test_data.Sentence\n",
    "lab = sen_test_data.Status"
   ]
  },
  {
   "cell_type": "code",
   "execution_count": 16,
   "id": "bd968cd0",
   "metadata": {},
   "outputs": [
    {
     "name": "stderr",
     "output_type": "stream",
     "text": [
      "100%|██████████████████████████████████████████████████████████████████████████████████████████████████████| 79/79 [03:17<00:00,  2.50s/it]\n",
      "/Users/admin/anaconda3/envs/Newra/lib/python3.7/site-packages/sklearn/utils/deprecation.py:87: FutureWarning: Function get_feature_names is deprecated; get_feature_names is deprecated in 1.0 and will be removed in 1.2. Please use get_feature_names_out instead.\n",
      "  warnings.warn(msg, category=FutureWarning)\n"
     ]
    },
    {
     "data": {
      "text/html": [
       "\n",
       "    <style>\n",
       "    table.eli5-weights tr:hover {\n",
       "        filter: brightness(85%);\n",
       "    }\n",
       "</style>\n",
       "\n",
       "\n",
       "\n",
       "    \n",
       "\n",
       "    \n",
       "\n",
       "    \n",
       "\n",
       "    \n",
       "\n",
       "    \n",
       "\n",
       "    \n",
       "\n",
       "\n",
       "    \n",
       "\n",
       "    \n",
       "\n",
       "    \n",
       "\n",
       "    \n",
       "        \n",
       "\n",
       "    \n",
       "\n",
       "        \n",
       "\n",
       "        \n",
       "    \n",
       "        \n",
       "        \n",
       "    \n",
       "        <p style=\"margin-bottom: 0.5em; margin-top: 0em\">\n",
       "            <b>\n",
       "    \n",
       "        y=LABEL_0\n",
       "    \n",
       "</b>\n",
       "\n",
       "    \n",
       "    (probability <b>0.729</b>, score <b>-0.987</b>)\n",
       "\n",
       "top features\n",
       "        </p>\n",
       "    \n",
       "    <table class=\"eli5-weights\"\n",
       "           style=\"border-collapse: collapse; border: none; margin-top: 0em; table-layout: auto; margin-bottom: 2em;\">\n",
       "        <thead>\n",
       "        <tr style=\"border: none;\">\n",
       "            \n",
       "                <th style=\"padding: 0 1em 0 0.5em; text-align: right; border: none;\" title=\"Feature contribution already accounts for the feature value (for linear models, contribution = weight * feature value), and the sum of feature contributions is equal to the score or, for some classifiers, to the probability. Feature values are shown if &quot;show_feature_values&quot; is True.\">\n",
       "                    Contribution<sup>?</sup>\n",
       "                </th>\n",
       "            \n",
       "            <th style=\"padding: 0 0.5em 0 0.5em; text-align: left; border: none;\">Feature</th>\n",
       "            \n",
       "        </tr>\n",
       "        </thead>\n",
       "        <tbody>\n",
       "        \n",
       "            <tr style=\"background-color: hsl(120, 100.00%, 80.00%); border: none;\">\n",
       "    <td style=\"padding: 0 1em 0 0.5em; text-align: right; border: none;\">\n",
       "        +1.412\n",
       "    </td>\n",
       "    <td style=\"padding: 0 0.5em 0 0.5em; text-align: left; border: none;\">\n",
       "        Highlighted in text (sum)\n",
       "    </td>\n",
       "    \n",
       "</tr>\n",
       "        \n",
       "        \n",
       "\n",
       "        \n",
       "        \n",
       "            <tr style=\"background-color: hsl(0, 100.00%, 91.37%); border: none;\">\n",
       "    <td style=\"padding: 0 1em 0 0.5em; text-align: right; border: none;\">\n",
       "        -0.425\n",
       "    </td>\n",
       "    <td style=\"padding: 0 0.5em 0 0.5em; text-align: left; border: none;\">\n",
       "        &lt;BIAS&gt;\n",
       "    </td>\n",
       "    \n",
       "</tr>\n",
       "        \n",
       "\n",
       "        </tbody>\n",
       "    </table>\n",
       "\n",
       "    \n",
       "\n",
       "\n",
       "\n",
       "    <p style=\"margin-bottom: 2.5em; margin-top:-0.5em;\">\n",
       "        <span style=\"background-color: hsl(0, 100.00%, 87.23%); opacity: 0.84\" title=\"-0.205\">training</span><span style=\"opacity: 0.80\"> </span><span style=\"background-color: hsl(120, 100.00%, 88.82%); opacity: 0.83\" title=\"0.170\">neural</span><span style=\"opacity: 0.80\"> </span><span style=\"background-color: hsl(120, 100.00%, 94.54%); opacity: 0.81\" title=\"0.061\">networks</span><span style=\"opacity: 0.80\"> </span><span style=\"background-color: hsl(120, 100.00%, 90.83%); opacity: 0.82\" title=\"0.128\">to</span><span style=\"opacity: 0.80\"> </span><span style=\"background-color: hsl(120, 100.00%, 91.39%); opacity: 0.82\" title=\"0.117\">synthesize</span><span style=\"opacity: 0.80\"> </span><span style=\"background-color: hsl(120, 100.00%, 91.96%); opacity: 0.82\" title=\"0.106\">robust</span><span style=\"opacity: 0.80\"> </span><span style=\"background-color: hsl(120, 100.00%, 92.83%); opacity: 0.82\" title=\"0.090\">programs</span><span style=\"opacity: 0.80\"> </span><span style=\"background-color: hsl(0, 100.00%, 96.77%); opacity: 0.81\" title=\"-0.029\">from</span><span style=\"opacity: 0.80\"> </span><span style=\"background-color: hsl(120, 100.00%, 92.44%); opacity: 0.82\" title=\"0.097\">a</span><span style=\"opacity: 0.80\"> </span><span style=\"background-color: hsl(120, 100.00%, 79.02%); opacity: 0.88\" title=\"0.417\">small</span><span style=\"opacity: 0.80\"> </span><span style=\"background-color: hsl(120, 100.00%, 87.22%); opacity: 0.84\" title=\"0.206\">number</span><span style=\"opacity: 0.80\"> </span><span style=\"background-color: hsl(120, 100.00%, 96.90%); opacity: 0.81\" title=\"0.027\">of</span><span style=\"opacity: 0.80\"> </span><span style=\"background-color: hsl(120, 100.00%, 87.21%); opacity: 0.84\" title=\"0.206\">examples</span><span style=\"opacity: 0.80\"> </span><span style=\"background-color: hsl(120, 100.00%, 77.85%); opacity: 0.89\" title=\"0.451\">is</span><span style=\"opacity: 0.80\"> </span><span style=\"background-color: hsl(120, 100.00%, 80.91%); opacity: 0.87\" title=\"0.364\">a</span><span style=\"opacity: 0.80\"> </span><span style=\"background-color: hsl(120, 100.00%, 60.00%); opacity: 1.00\" title=\"1.048\">challenging</span><span style=\"opacity: 0.80\"> </span><span style=\"background-color: hsl(120, 100.00%, 91.08%); opacity: 0.82\" title=\"0.123\">task</span>\n",
       "    </p>\n",
       "\n",
       "\n",
       "    \n",
       "\n",
       "    \n",
       "\n",
       "    \n",
       "\n",
       "    \n",
       "\n",
       "\n",
       "    \n",
       "\n",
       "    \n",
       "\n",
       "    \n",
       "\n",
       "    \n",
       "\n",
       "    \n",
       "\n",
       "    \n",
       "\n",
       "\n",
       "    \n",
       "\n",
       "    \n",
       "\n",
       "    \n",
       "\n",
       "    \n",
       "\n",
       "    \n",
       "\n",
       "    \n",
       "\n",
       "\n",
       "\n"
      ],
      "text/plain": [
       "Explanation(estimator=\"SGDClassifier(alpha=0.001, loss='log', penalty='elasticnet',\\n              random_state=RandomState(MT19937) at 0x7F8566C5BEB8)\", description=None, error=None, method='linear model', is_regression=False, targets=[TargetExplanation(target='LABEL_0', feature_weights=FeatureWeights(pos=[FeatureWeight(feature='a challenging', weight=0.4152514386891713, std=None, value=1.0), FeatureWeight(feature='challenging', weight=0.4027574644577268, std=None, value=1.0), FeatureWeight(feature='challenging task', weight=0.2304663286695488, std=None, value=1.0), FeatureWeight(feature='is', weight=0.2229318398797763, std=None, value=1.0), FeatureWeight(feature='to synthesize', weight=0.2133829438948253, std=None, value=1.0), FeatureWeight(feature='of examples', weight=0.2037769157041851, std=None, value=1.0), FeatureWeight(feature='small number', weight=0.20035728304628836, std=None, value=1.0), FeatureWeight(feature='neural', weight=0.16975270205003937, std=None, value=1.0), FeatureWeight(feature='examples is', weight=0.12653913157572264, std=None, value=1.0), FeatureWeight(feature='from a', weight=0.12571967000933104, std=None, value=1.0), FeatureWeight(feature='a small', weight=0.12330701761759455, std=None, value=1.0), FeatureWeight(feature='robust programs', weight=0.10602952922289487, std=None, value=1.0), FeatureWeight(feature='is a', weight=0.10114553980830655, std=None, value=1.0), FeatureWeight(feature='small', weight=0.09335172607586029, std=None, value=1.0), FeatureWeight(feature='networks to', weight=0.06092254827869191, std=None, value=1.0), FeatureWeight(feature='number of', weight=0.05679959993591098, std=None, value=1.0)], neg=[FeatureWeight(feature='<BIAS>', weight=-0.4250196011744657, std=None, value=1.0), FeatureWeight(feature='a', weight=-0.3039034752436394, std=None, value=2.0), FeatureWeight(feature='of', weight=-0.23343886881945974, std=None, value=1.0), FeatureWeight(feature='training', weight=-0.20525086894181716, std=None, value=1.0), FeatureWeight(feature='from', weight=-0.1544977138310304, std=None, value=1.0), FeatureWeight(feature='to', weight=-0.14639204062531747, std=None, value=1.0), FeatureWeight(feature='examples', weight=-0.12476100554182291, std=None, value=1.0), FeatureWeight(feature='task', weight=-0.1075058961280444, std=None, value=1.0), FeatureWeight(feature='synthesize', weight=-0.09658417180778676, std=None, value=1.0), FeatureWeight(feature='number', weight=-0.05164980094034648, std=None, value=1.0), FeatureWeight(feature='programs', weight=-0.016115236579685603, std=None, value=1.0)], pos_remaining=0, neg_remaining=0), proba=0.7285687283603709, score=-0.9873729992824581, weighted_spans=WeightedSpans(docs_weighted_spans=[DocWeightedSpans(document='training neural networks to synthesize robust programs from a small number of examples is a challenging task', spans=[('training', [(0, 8)], -0.20525086894181716), ('neural', [(9, 15)], 0.16975270205003937), ('to', [(25, 27)], -0.14639204062531747), ('synthesize', [(28, 38)], -0.09658417180778676), ('programs', [(46, 54)], -0.016115236579685603), ('from', [(55, 59)], -0.1544977138310304), ('a', [(60, 61)], -0.3039034752436394), ('small', [(62, 67)], 0.09335172607586029), ('number', [(68, 74)], -0.05164980094034648), ('of', [(75, 77)], -0.23343886881945974), ('examples', [(78, 86)], -0.12476100554182291), ('is', [(87, 89)], 0.2229318398797763), ('a', [(90, 91)], -0.3039034752436394), ('challenging', [(92, 103)], 0.4027574644577268), ('task', [(104, 108)], -0.1075058961280444), ('networks to', [(16, 24), (25, 27)], 0.06092254827869191), ('to synthesize', [(25, 27), (28, 38)], 0.2133829438948253), ('robust programs', [(39, 45), (46, 54)], 0.10602952922289487), ('from a', [(55, 59), (60, 61)], 0.12571967000933104), ('a small', [(60, 61), (62, 67)], 0.12330701761759455), ('small number', [(62, 67), (68, 74)], 0.20035728304628836), ('number of', [(68, 74), (75, 77)], 0.05679959993591098), ('of examples', [(75, 77), (78, 86)], 0.2037769157041851), ('examples is', [(78, 86), (87, 89)], 0.12653913157572264), ('is a', [(87, 89), (90, 91)], 0.10114553980830655), ('a challenging', [(90, 91), (92, 103)], 0.4152514386891713), ('challenging task', [(92, 103), (104, 108)], 0.2304663286695488)], preserve_density=False, vec_name=None)], other=FeatureWeights(pos=[FeatureWeight(feature=<FormattedFeatureName 'Highlighted in text (sum)'>, weight=1.4123926004569238, std=None, value=None)], neg=[FeatureWeight(feature='<BIAS>', weight=-0.4250196011744657, std=None, value=1.0)], pos_remaining=0, neg_remaining=0)), heatmap=None)], feature_importances=None, decision_tree=None, highlight_spaces=None, transition_features=None, image=None)"
      ]
     },
     "execution_count": 16,
     "metadata": {},
     "output_type": "execute_result"
    }
   ],
   "source": [
    "specter_exp = TextExplainer(n_samples=5000, random_state=42)\n",
    "specter_exp.fit(sen[0], model_adapter)\n",
    "specter_exp.explain_prediction(target_names=list(model.config.id2label.values()))"
   ]
  },
  {
   "cell_type": "code",
   "execution_count": 17,
   "id": "71b9234d",
   "metadata": {},
   "outputs": [
    {
     "name": "stderr",
     "output_type": "stream",
     "text": [
      "/Users/admin/anaconda3/envs/Newra/lib/python3.7/site-packages/sklearn/utils/deprecation.py:87: FutureWarning: Function get_feature_names is deprecated; get_feature_names is deprecated in 1.0 and will be removed in 1.2. Please use get_feature_names_out instead.\n",
      "  warnings.warn(msg, category=FutureWarning)\n"
     ]
    },
    {
     "data": {
      "text/plain": [
       "<matplotlib.image.AxesImage at 0x7f8496f6c208>"
      ]
     },
     "execution_count": 17,
     "metadata": {},
     "output_type": "execute_result"
    },
    {
     "data": {
      "image/png": "[encoded data removed]",
      "text/plain": [
       "<Figure size 640x480 with 1 Axes>"
      ]
     },
     "metadata": {},
     "output_type": "display_data"
    }
   ],
   "source": [
    "weights = specter_exp.explain_weights()\n",
    "\n",
    "sen_positivie_words= {}\n",
    "\n",
    "for i in weights.targets[0].feature_weights.pos:\n",
    "    #print(i.feature)\n",
    "    g = sen_positivie_words.get(i.feature,-1)\n",
    "    if g==-1:\n",
    "        sen_positivie_words[i.feature]=1\n",
    "    else:\n",
    "        sen_positivie_words[i.feature]+=1\n",
    "        \n",
    "\n",
    "sen_negative_words= {}\n",
    "\n",
    "for i in weights.targets[0].feature_weights.neg:\n",
    "    #print(i.feature)\n",
    "    g = sen_negative_words.get(i.feature,-1)\n",
    "    if g==-1:\n",
    "        sen_negative_words[i.feature]=1\n",
    "    else:\n",
    "        sen_negative_words[i.feature]+=1\n",
    "\n",
    "        \n",
    "wc = WordCloud(background_color=\"white\",width=1000,height=1000,relative_scaling=0.5,normalize_plurals=False).generate_from_frequencies(sen_positivie_words)\n",
    "plt.imshow(wc)\n"
   ]
  },
  {
   "cell_type": "code",
   "execution_count": 18,
   "id": "ad7342cd",
   "metadata": {},
   "outputs": [
    {
     "data": {
      "text/plain": [
       "<matplotlib.image.AxesImage at 0x7f8496909470>"
      ]
     },
     "execution_count": 18,
     "metadata": {},
     "output_type": "execute_result"
    },
    {
     "data": {
      "image/png": "[encoded data removed]",
      "text/plain": [
       "<Figure size 640x480 with 1 Axes>"
      ]
     },
     "metadata": {},
     "output_type": "display_data"
    }
   ],
   "source": [
    "wc = WordCloud(background_color=\"white\",width=1000,height=1000,relative_scaling=0.5,normalize_plurals=False).generate_from_frequencies(sen_negative_words)\n",
    "plt.imshow(wc)"
   ]
  },
  {
   "cell_type": "markdown",
   "id": "c96fdbc8",
   "metadata": {},
   "source": [
    "## very inportant"
   ]
  },
  {
   "cell_type": "code",
   "execution_count": 19,
   "id": "cb033216",
   "metadata": {},
   "outputs": [],
   "source": [
    "# print(weights.targets[0].feature_weights.pos[0].weight,weights.targets[0].feature_weights.pos[0].feature)"
   ]
  },
  {
   "cell_type": "code",
   "execution_count": 20,
   "id": "6db1c5db",
   "metadata": {},
   "outputs": [],
   "source": [
    "# d = specter_exp.explain_prediction()"
   ]
  },
  {
   "cell_type": "markdown",
   "id": "fcca8b51",
   "metadata": {},
   "source": [
    "### Logistic Regression"
   ]
  },
  {
   "cell_type": "code",
   "execution_count": 21,
   "id": "bd7b8264",
   "metadata": {},
   "outputs": [],
   "source": [
    "doc_train_data = pd.read_csv(\"./complete_sentence/train_processed_data.csv\")\n",
    "doc_test_data = pd.read_csv(\"./complete_sentence/train_processed_data.csv\") "
   ]
  },
  {
   "cell_type": "code",
   "execution_count": 22,
   "id": "76e95344",
   "metadata": {},
   "outputs": [],
   "source": [
    "doc_train_data = get_20(doc_train_data)\n",
    "doc_test_data = get_20(doc_test_data)"
   ]
  },
  {
   "cell_type": "code",
   "execution_count": 23,
   "id": "3629f635",
   "metadata": {},
   "outputs": [
    {
     "data": {
      "text/html": [
       "<div>\n",
       "<style scoped>\n",
       "    .dataframe tbody tr th:only-of-type {\n",
       "        vertical-align: middle;\n",
       "    }\n",
       "\n",
       "    .dataframe tbody tr th {\n",
       "        vertical-align: top;\n",
       "    }\n",
       "\n",
       "    .dataframe thead th {\n",
       "        text-align: right;\n",
       "    }\n",
       "</style>\n",
       "<table border=\"1\" class=\"dataframe\">\n",
       "  <thead>\n",
       "    <tr style=\"text-align: right;\">\n",
       "      <th></th>\n",
       "      <th>File_id</th>\n",
       "      <th>Paper_text</th>\n",
       "      <th>Status</th>\n",
       "    </tr>\n",
       "  </thead>\n",
       "  <tbody>\n",
       "    <tr>\n",
       "      <th>0</th>\n",
       "      <td>304.pdf.json</td>\n",
       "      <td>training neural networks to synthesize robust ...</td>\n",
       "      <td>1</td>\n",
       "    </tr>\n",
       "    <tr>\n",
       "      <th>1</th>\n",
       "      <td>305.pdf.json</td>\n",
       "      <td>data compression is a fundamental and well-stu...</td>\n",
       "      <td>1</td>\n",
       "    </tr>\n",
       "    <tr>\n",
       "      <th>2</th>\n",
       "      <td>306.pdf.json</td>\n",
       "      <td>deep learning has shown great success in a var...</td>\n",
       "      <td>1</td>\n",
       "    </tr>\n",
       "    <tr>\n",
       "      <th>3</th>\n",
       "      <td>307.pdf.json</td>\n",
       "      <td>the most useful applications of dialog systems...</td>\n",
       "      <td>1</td>\n",
       "    </tr>\n",
       "    <tr>\n",
       "      <th>4</th>\n",
       "      <td>308.pdf.json</td>\n",
       "      <td>generative adversarial networks (gans)(goodfel...</td>\n",
       "      <td>1</td>\n",
       "    </tr>\n",
       "  </tbody>\n",
       "</table>\n",
       "</div>"
      ],
      "text/plain": [
       "        File_id                                         Paper_text  Status\n",
       "0  304.pdf.json  training neural networks to synthesize robust ...       1\n",
       "1  305.pdf.json  data compression is a fundamental and well-stu...       1\n",
       "2  306.pdf.json  deep learning has shown great success in a var...       1\n",
       "3  307.pdf.json  the most useful applications of dialog systems...       1\n",
       "4  308.pdf.json  generative adversarial networks (gans)(goodfel...       1"
      ]
     },
     "execution_count": 23,
     "metadata": {},
     "output_type": "execute_result"
    }
   ],
   "source": [
    "doc_train_data.head()"
   ]
  },
  {
   "cell_type": "code",
   "execution_count": 24,
   "id": "e572c6d1",
   "metadata": {},
   "outputs": [],
   "source": [
    "doc_train_text = doc_train_data.Paper_text.values.tolist()\n",
    "doc_train_status = doc_train_data.Status.values.tolist()\n",
    "\n",
    "doc_test_text = doc_test_data.Paper_text.values.tolist()\n",
    "doc_test_status = doc_test_data.Status.values.tolist()"
   ]
  },
  {
   "cell_type": "code",
   "execution_count": 25,
   "id": "3d967849",
   "metadata": {},
   "outputs": [],
   "source": [
    "class Padding(BaseEstimator, TransformerMixin):\n",
    "    \n",
    "    def __init__(self,model,tokenizer):\n",
    "        self.model = model # Configure model to return attention values\n",
    "        self.tokenizer = tokenizer\n",
    "        self.mxlenght = 400\n",
    "        print('\\n>>>>>>>init() called.\\n')\n",
    "\n",
    "    def fit(self, X, y = None):\n",
    "        print('\\n>>>>>>>fit() called.\\n')\n",
    "        return self\n",
    "    \n",
    "\n",
    "    def transform(self, X, y = None):\n",
    "        embeddings = []\n",
    "        for i in tqdm(X):\n",
    "            temp = [] \n",
    "            sentence_list = i.split(\".\")\n",
    "            for i in sentence_list:\n",
    "                if len(i)==0:\n",
    "                    continue\n",
    "                encoded_input = tokenizer(i,return_tensors='pt', padding=True, truncation=True,max_length=model.config.max_position_embeddings-2)\n",
    "                output = model(**encoded_input)\n",
    "                pred = np.argmax(output[0].softmax(1).detach().numpy())\n",
    "                temp.append(pred)\n",
    "            size = self.mxlenght - len(temp)\n",
    "            if size > 0:\n",
    "                temp.extend([-1]*size)\n",
    "            elif size < 0:\n",
    "                temp = temp[0:self.mxlenght]\n",
    "            else:\n",
    "                pass\n",
    "            embeddings.append(temp)\n",
    "        return embeddings"
   ]
  },
  {
   "cell_type": "code",
   "execution_count": null,
   "id": "03828a9d",
   "metadata": {},
   "outputs": [
    {
     "name": "stdout",
     "output_type": "stream",
     "text": [
      "\n",
      ">>>>>>>init() called.\n",
      "\n",
      "\n",
      ">>>>>>>fit() called.\n",
      "\n"
     ]
    },
    {
     "name": "stderr",
     "output_type": "stream",
     "text": [
      "100%|██████████████████████████████████████████████████████████████████████████████████████████████████████| 40/40 [25:59<00:00, 39.00s/it]\n",
      " 22%|██████████████████████▌                                                                             | 9/40 [45:20<6:16:54, 729.51s/it]"
     ]
    }
   ],
   "source": [
    "pipe1 = Pipeline(steps=[\n",
    "                       ('Documnet Embeddings', Padding(model,tokenizer)), # this will trigger a call to __init__\n",
    "                       ('Logistic Regression', LogisticRegression(solver='lbfgs')),\n",
    "\n",
    "])\n",
    "\n",
    "pipe1.fit(doc_train_text, doc_train_status)\n",
    "pipe1.score(doc_test_text,doc_test_status)"
   ]
  },
  {
   "cell_type": "code",
   "execution_count": null,
   "id": "9d0577d2",
   "metadata": {},
   "outputs": [],
   "source": [
    "target =['Reject','Accept']\n",
    "doc = doc_test_text[0]\n",
    "pipe1_exp = TextExplainer(n_samples=10,random_state=42)\n",
    "pipe1_exp.fit(doc, pipe1.predict_proba)\n",
    "pipe1_exp.show_prediction(target_names= target)"
   ]
  },
  {
   "cell_type": "code",
   "execution_count": null,
   "id": "370cf7b8",
   "metadata": {},
   "outputs": [],
   "source": [
    "weights = pipe1_exp.explain_weights(top= None)\n",
    "positivie_words= {}\n",
    "\n",
    "for i in weights.targets[0].feature_weights.pos:\n",
    "    #print(i.feature)\n",
    "    g = positivie_words.get(i.feature,-1)\n",
    "    if g==-1:\n",
    "        positivie_words[i.feature]=1\n",
    "    else:\n",
    "        positivie_words[i.feature]+=1\n",
    "        \n",
    "\n",
    "negative_words= {}\n",
    "\n",
    "for i in weights.targets[0].feature_weights.neg:\n",
    "    #print(i.feature)\n",
    "    g = negative_words.get(i.feature,-1)\n",
    "    if g==-1:\n",
    "        negative_words[i.feature]=1\n",
    "    else:\n",
    "        negative_words[i.feature]+=1\n",
    "# print(weights.targets[0].feature_weights.pos[0].weight,weights.targets[0].feature_weights.pos[0].feature)"
   ]
  },
  {
   "cell_type": "code",
   "execution_count": null,
   "id": "fcd46330",
   "metadata": {},
   "outputs": [],
   "source": [
    "wc = WordCloud(background_color=\"white\",width=1000,height=1000,relative_scaling=0.5,normalize_plurals=False).generate_from_frequencies(positivie_words)\n",
    "plt.imshow(wc)"
   ]
  },
  {
   "cell_type": "code",
   "execution_count": null,
   "id": "17b49181",
   "metadata": {},
   "outputs": [],
   "source": [
    "wc = WordCloud(background_color=\"white\",width=1000,height=1000,relative_scaling=0.5,normalize_plurals=False).generate_from_frequencies(negative_words)\n",
    "plt.imshow(wc)"
   ]
  },
  {
   "cell_type": "code",
   "execution_count": null,
   "id": "d9ff6a98",
   "metadata": {},
   "outputs": [],
   "source": [
    "def print_prediction(doc):\n",
    "    print(doc)\n",
    "    y_pred = pipe1.predict_proba([doc])[0]\n",
    "    tar =['Reject','Accept']\n",
    "    for target, prob in zip(tar, y_pred):\n",
    "        print(\"{:.3f} {}\".format(prob, target))"
   ]
  },
  {
   "cell_type": "code",
   "execution_count": null,
   "id": "30941bac",
   "metadata": {},
   "outputs": [],
   "source": [
    "print_prediction(text[0])"
   ]
  },
  {
   "cell_type": "markdown",
   "id": "944f6ddc",
   "metadata": {},
   "source": [
    "## SVM CLASSIFIER"
   ]
  },
  {
   "cell_type": "code",
   "execution_count": null,
   "id": "2da722c4",
   "metadata": {},
   "outputs": [],
   "source": [
    "class CustomEmbedding(BaseEstimator, TransformerMixin):\n",
    "    \n",
    "    def __init__(self):\n",
    "        self.model_name = \"sentence-transformers/bert-base-nli-mean-tokens\"\n",
    "        self.model = AutoModel.from_pretrained(self.model_name, output_attentions=True)  # Configure model to return attention values\n",
    "        self.tokenizer = AutoTokenizer.from_pretrained(self.model_name)\n",
    "        print('\\n>>>>>>>init() called.\\n')\n",
    "\n",
    "    def fit(self, X, y = None):\n",
    "        print('\\n>>>>>>>fit() called.\\n')\n",
    "        return self\n",
    "    \n",
    "    def mean_pooling(self,model_output, attention_mask):\n",
    "        token_embeddings = model_output[0] #First element of model_output contains all token embeddings\n",
    "        input_mask_expanded = attention_mask.unsqueeze(-1).expand(token_embeddings.size()).float()\n",
    "        return torch.sum(token_embeddings * input_mask_expanded, 1) / torch.clamp(input_mask_expanded.sum(1), min=1e-9)\n",
    "\n",
    "\n",
    "    def bert(self,text):\n",
    "        encoded_input = self.tokenizer(text, padding=True, truncation=True, return_tensors='pt')\n",
    "        inputs = self.tokenizer.encode(text, return_tensors='pt')  # Tokenize input text\n",
    "\n",
    "        outputs = self.model(inputs)  # Run model\n",
    "        attention = outputs[-1]  # Retrieve attention from model outputs\n",
    "\n",
    "        tokens = self.tokenizer.convert_ids_to_tokens(inputs[0]) \n",
    "        sentence_embeddings = self.mean_pooling(outputs, encoded_input['attention_mask'])\n",
    "        return sentence_embeddings.detach().numpy()[0].tolist()\n",
    "\n",
    "    def transform(self, X, y = None):\n",
    "        embeddings = []\n",
    "        for i in X:\n",
    "            emb = self.bert(i)\n",
    "            embeddings.append(emb)\n",
    "        #print(embeddings)\n",
    "        return embeddings\n",
    "        "
   ]
  },
  {
   "cell_type": "code",
   "execution_count": null,
   "id": "5c852dd7",
   "metadata": {},
   "outputs": [],
   "source": [
    "pipe2 = Pipeline(steps=[\n",
    "                       ('Bert Embeddings', CustomEmbedding()),    # this will trigger a call to __init__\n",
    "                       ('Support Vector Classifier', SVC(kernel='rbf',probability=True))\n",
    "])\n"
   ]
  },
  {
   "cell_type": "code",
   "execution_count": null,
   "id": "faa54a0e",
   "metadata": {},
   "outputs": [],
   "source": [
    "sen_text = sen_train_data['Sentence']\n",
    "sen_label = sen_train_data['Status']\n",
    "pipe2.fit(sen_text, sen_label)"
   ]
  },
  {
   "cell_type": "code",
   "execution_count": null,
   "id": "5f3bcc9b",
   "metadata": {},
   "outputs": [],
   "source": [
    "sen_test_text = sen_test_data['Sentence']\n",
    "sen_test_lab = sen_test_data['Status']\n",
    "pipe2.score(sen_test_text,sen_test_lab)"
   ]
  },
  {
   "cell_type": "code",
   "execution_count": null,
   "id": "5ccd52c5",
   "metadata": {},
   "outputs": [],
   "source": [
    "target =['Reject','Accept']\n",
    "doc = 'however, models that make use of this strategy eventually fail after a certain level of complexity (e'\n",
    "pipe2_exp = TextExplainer(random_state=42)\n",
    "pipe2_exp.fit(doc, pipe2.predict_proba)\n",
    "pipe2_exp.show_prediction(target_names= target)"
   ]
  },
  {
   "cell_type": "code",
   "execution_count": null,
   "id": "1eb73ea9",
   "metadata": {},
   "outputs": [],
   "source": [
    "def print_prediction_1(doc):\n",
    "    print(doc)\n",
    "    y_pred = pipe2.predict_proba([doc])[0]\n",
    "    tar =['Reject','Accept']\n",
    "    for target, prob in zip(tar, y_pred):\n",
    "        print(\"{:.3f} {}\".format(prob, target))"
   ]
  },
  {
   "cell_type": "code",
   "execution_count": null,
   "id": "5e123caf",
   "metadata": {},
   "outputs": [],
   "source": [
    "pipe2_exp.explain_weights(target_names=target)"
   ]
  },
  {
   "cell_type": "code",
   "execution_count": null,
   "id": "49e39116",
   "metadata": {},
   "outputs": [],
   "source": [
    "print(pipe2.classes_) \n",
    "print(pipe2_exp.metrics_ )"
   ]
  },
  {
   "cell_type": "code",
   "execution_count": null,
   "id": "ac46a31d",
   "metadata": {},
   "outputs": [],
   "source": [
    "class Padding_2(BaseEstimator, TransformerMixin):\n",
    "    \n",
    "    def __init__(self,model):\n",
    "        self.model = model # Configure model to return attention values\n",
    "        self.tokenizer = tokenizer\n",
    "        self.mxlenght = 400\n",
    "        print('\\n>>>>>>>init() called.\\n')\n",
    "\n",
    "    def fit(self, X, y = None):\n",
    "        print('\\n>>>>>>>fit() called.\\n')\n",
    "        return self\n",
    "    \n",
    "\n",
    "    def transform(self, X, y = None):\n",
    "        embeddings = []\n",
    "        for i in X:\n",
    "            temp = [] \n",
    "            sentence_list = i.split(\".\")\n",
    "            for i in sentence_list:\n",
    "                if len(i)==0:\n",
    "                    continue\n",
    "                pred = model.predict(i)\n",
    "                temp.append(pred)\n",
    "            size = self.mxlenght - len(temp)\n",
    "            if size > 0:\n",
    "                temp.extend([-1]*size)\n",
    "            elif size < 0:\n",
    "                temp = temp[0:self.mxlenght+1]\n",
    "            else:\n",
    "                pass\n",
    "            embeddings.append(temp)\n",
    "        return embeddings"
   ]
  },
  {
   "cell_type": "code",
   "execution_count": null,
   "id": "30d987f1",
   "metadata": {},
   "outputs": [],
   "source": [
    "pipe3 = Pipeline(steps=[\n",
    "                       ('Documnet Embeddings', Padding_2(pipe2)), # this will trigger a call to __init__\n",
    "                       ('Logistic Regression', LogisticRegression(solver='lbfgs')),\n",
    "\n",
    "])\n",
    "\n",
    "pipe3.fit(doc_train_text, doc_train_status)\n",
    "pipe3.score(doc_test_text,doc_test_status)"
   ]
  },
  {
   "cell_type": "code",
   "execution_count": null,
   "id": "e634572c",
   "metadata": {},
   "outputs": [],
   "source": [
    "def print_prediction_2(doc):\n",
    "    print(doc)\n",
    "    y_pred = pipe3.predict_proba([doc])[0]\n",
    "    tar =['Reject','Accept']\n",
    "    for target, prob in zip(tar, y_pred):\n",
    "        print(\"{:.3f} {}\".format(prob, target))"
   ]
  },
  {
   "cell_type": "code",
   "execution_count": null,
   "id": "ee754b4c",
   "metadata": {},
   "outputs": [],
   "source": [
    "target =['Reject','Accept']\n",
    "doc = text[0]\n",
    "pipe3_exp = TextExplainer(random_state=42)\n",
    "pipe3_exp.fit(doc, pipe3.predict_proba)\n",
    "pipe3_exp.show_prediction(target_names= target)"
   ]
  },
  {
   "cell_type": "code",
   "execution_count": null,
   "id": "cad6753a",
   "metadata": {},
   "outputs": [],
   "source": [
    "weights = pipe3_exp.explain_weights(top= None)\n",
    "positivie_words= {}\n",
    "\n",
    "for i in weights.targets[0].feature_weights.pos:\n",
    "    #print(i.feature)\n",
    "    g = positivie_words.get(i.feature,-1)\n",
    "    if g==-1:\n",
    "        positivie_words[i.feature]=1\n",
    "    else:\n",
    "        positivie_words[i.feature]+=1\n",
    "        \n",
    "\n",
    "negative_words= {}\n",
    "\n",
    "for i in weights.targets[0].feature_weights.neg:\n",
    "    #print(i.feature)\n",
    "    g = negative_words.get(i.feature,-1)\n",
    "    if g==-1:\n",
    "        negative_words[i.feature]=1\n",
    "    else:\n",
    "        negative_words[i.feature]+=1\n",
    "# print(weights.targets[0].feature_weights.pos[0].weight,weights.targets[0].feature_weights.pos[0].feature)"
   ]
  },
  {
   "cell_type": "code",
   "execution_count": null,
   "id": "5387bfc2",
   "metadata": {},
   "outputs": [],
   "source": [
    "wc = WordCloud(background_color=\"white\",width=1000,height=1000,relative_scaling=0.5,normalize_plurals=False).generate_from_frequencies(positivie_words)\n",
    "plt.imshow(wc)"
   ]
  },
  {
   "cell_type": "code",
   "execution_count": null,
   "id": "f335ad61",
   "metadata": {},
   "outputs": [],
   "source": [
    "wc = WordCloud(background_color=\"white\",width=1000,height=1000,relative_scaling=0.5,normalize_plurals=False).generate_from_frequencies(negative_words)\n",
    "plt.imshow(wc)"
   ]
  },
  {
   "cell_type": "code",
   "execution_count": null,
   "id": "98581466",
   "metadata": {},
   "outputs": [],
   "source": []
  }
 ],
 "metadata": {
  "kernelspec": {
   "display_name": "Python 3 (ipykernel)",
   "language": "python",
   "name": "python3"
  },
  "language_info": {
   "codemirror_mode": {
    "name": "ipython",
    "version": 3
   },
   "file_extension": ".py",
   "mimetype": "text/x-python",
   "name": "python",
   "nbconvert_exporter": "python",
   "pygments_lexer": "ipython3",
   "version": "3.7.0"
  }
 },
 "nbformat": 4,
 "nbformat_minor": 5
}
